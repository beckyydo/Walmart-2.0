{
 "cells": [
  {
   "cell_type": "code",
   "execution_count": null,
   "metadata": {},
   "outputs": [],
   "source": [
    "# Run dependencies\n",
    "%run extraction.ipynb"
   ]
  },
  {
   "cell_type": "markdown",
   "metadata": {},
   "source": [
    "# Transformation"
   ]
  },
  {
   "cell_type": "markdown",
   "metadata": {},
   "source": [
    "### (1) Walmart 2010-2012 Sales Dataset/API Holiday"
   ]
  },
  {
   "cell_type": "code",
   "execution_count": null,
   "metadata": {},
   "outputs": [],
   "source": [
    "## *******************************************TRANSFORMATION*******************************************\n",
    "## (1) WALMART 2010-2012 SALES DATASET/API HOLIDAY\n",
    "\n",
    "# Merge stores and feature on Store\n",
    "features_stores = features.merge(stores, how='inner', on='Store')\n",
    "\n",
    "# Convert date column from string to date type\n",
    "features_stores.Date = pd.to_datetime(features_stores.Date)\n",
    "train.Date = pd.to_datetime(train.Date)\n",
    "\n",
    "# Add column week and year\n",
    "features_stores['Week'] = features_stores.Date.dt.week \n",
    "features_stores['Year'] = features_stores.Date.dt.year\n",
    "\n",
    "# Merge datasets\n",
    "walmart_data = train.merge(features_stores, \n",
    "                           how='inner',\n",
    "                           on=['Store','Date','IsHoliday']).sort_values(by=['Store',\n",
    "                                                                            'Dept',\n",
    "                                                                            'Date']).reset_index(drop=True)\n",
    "\n",
    "# Drop MarkDown columns and IsHoliday\n",
    "walmart_data = walmart_data.drop([\"IsHoliday\", \"MarkDown1\", \"MarkDown2\", \"MarkDown3\", \"MarkDown4\", \"MarkDown5\"], axis=1)\n",
    "\n",
    "# Drop NaN values in CPI and Unemployment\n",
    "walmart_data = walmart_data.dropna()\n",
    "\n",
    "# Change Temprature column name to Temperature F\n",
    "walmart_data=walmart_data.rename(columns={\"Temperature\": \"Temperature F\"})\n",
    "\n",
    "# Convert temprature from Fahrenheit to Celsius\n",
    "temp_celcius=[]\n",
    "for temperature in walmart_data['Temperature F']:\n",
    "    celcius = (temperature - 32) * (5.0/9.0)\n",
    "    temp_celcius.append(celcius)\n",
    "walmart_data[\"Temperature C\"] = temp_celcius\n",
    "\n",
    "# Rounding Column values to required decimal points\n",
    "walmart_data = walmart_data.round({'Fuel_Price': 2, 'Temperature C': 0, 'CPI': 4 })\n",
    "\n",
    "# Convert Date to datetime and subtract 6 days to get Start of Week\n",
    "walmart_data['Start of Week'] = pd.to_datetime(walmart_data.Date) - timedelta(days=6)\n",
    "\n",
    "# Sort dataframe and reset index for walmart\n",
    "walmart_data = walmart_data.sort_values(by =['Date']).reset_index(drop = True)"
   ]
  },
  {
   "cell_type": "code",
   "execution_count": null,
   "metadata": {},
   "outputs": [],
   "source": [
    "## (1) WALMART 2010-2012 SALES DATASET/API HOLIDAY\n",
    "\n",
    "# Sort dataframe and reset index for walmart\n",
    "holiday_df = holiday_df.sort_values(by =['Date']).reset_index(drop = True)\n",
    "\n",
    "# Convert holiday date\n",
    "holiday_df['Date'] = pd.to_datetime(holiday_df['Date'])\n",
    "\n",
    "holiday_name = []\n",
    "k = 0\n",
    "# Label data with Holiday Name or No Holiday\n",
    "for i in range(len(walmart_data)):\n",
    "    \n",
    "    if (holiday_df['Date'][k] <= walmart_data['Date'][i]) & (holiday_df['Date'][k] >= walmart_data['Start of Week'][i]):\n",
    "        holiday_name.append(holiday_df['Holiday'][k])\n",
    "    \n",
    "    elif (holiday_df['Date'][k] > walmart_data['Date'][i]):\n",
    "        holiday_name.append(\"No Holiday\")\n",
    "    \n",
    "    elif (walmart_data['Date'][i] > holiday_df['Date'][k]):\n",
    "        holiday_name.append(\"No Holiday\")\n",
    "        k +=1\n",
    "\n",
    "# Set new column as list created:\n",
    "walmart_data['Holiday Name'] = holiday_name\n",
    "\n",
    "# Convert Christmas Day and Eve to be Christmas\n",
    "walmart_data['Holiday Name'] = walmart_data['Holiday Name'].replace({'Christmas Day': 'Christmas',\n",
    "                                                                    'Christmas Eve': 'Christmas'})\n",
    "\n",
    "# Display preview of dataframe:\n",
    "walmart_data.head()"
   ]
  },
  {
   "cell_type": "code",
   "execution_count": null,
   "metadata": {},
   "outputs": [],
   "source": [
    "## (1) WALMART 2010-2012 SALES DATASET/API HOLIDAY\n",
    "## TABLE 1 SUMMARY WALMART STORES SALES OVER 2010-2012\n",
    "\n",
    "# Aggregate over Store/Start of Week, Include Other Columns\n",
    "header = ['Store','Start of Week', 'Date','Fuel_Price','CPI','Unemployment','Type', 'Size','Week','Year','Temperature C','Holiday Name']\n",
    "walmart = pd.DataFrame(walmart_data.groupby(header)['Weekly_Sales'].sum())\n",
    "\n",
    "# Reset Index and add ID Column\n",
    "walmart = walmart.reset_index()\n",
    "walmart = walmart.reset_index(drop = False)\n",
    "\n",
    "# Rename Columns\n",
    "walmart.columns = ['ID','Store','Start_of_Week','Week_Date','Fuel_Price','CPI','Unemployment','Type','Size','Week','Year',\n",
    "                  'Temperature_C','Holiday_Name','Weekly_Sales']\n",
    "\n",
    "# Display preview\n",
    "walmart.head()"
   ]
  },
  {
   "cell_type": "markdown",
   "metadata": {},
   "source": [
    "### (2) API HOLIDAY"
   ]
  },
  {
   "cell_type": "code",
   "execution_count": null,
   "metadata": {},
   "outputs": [],
   "source": [
    "## (2) API HOLIDAY\n",
    "## TABLE 2 HOLIDAY DATE LIST 2010-2012\n",
    "\n",
    "# Display preview\n",
    "holiday_df.head()"
   ]
  },
  {
   "cell_type": "code",
   "execution_count": null,
   "metadata": {},
   "outputs": [],
   "source": [
    "## (3) STOCK 1972-2020 DATASET\n",
    "## TABLE 3 ALL 2010-2012 STOCK DAILY DATASET\n",
    "\n",
    "# Convert Date Columns to datetime\n",
    "stock['Date'] = pd.to_datetime(stock['Date'])\n",
    "stock['Year'] = stock['Date'].dt.year\n",
    "\n",
    "# Set first date and last date on sales dateframe\n",
    "first_date = walmart['Start_of_Week'][0]\n",
    "last_date = walmart['Week_Date'].iloc[-1]\n",
    "\n",
    "# Filter stock date with sales data range\n",
    "stock = stock.loc[(stock['Date'] >= first_date) & (stock['Date'] <=last_date)]\n",
    "stock = stock.reset_index(drop = True)\n",
    "\n",
    "# Sort by Date\n",
    "stock = stock.sort_values(by = 'Date')\n",
    "walmart = walmart.sort_values(by = 'Week_Date')\n",
    "\n",
    "# Get list of unique walmart weekly dates\n",
    "walmart_date = walmart.Week_Date.unique()\n",
    "\n",
    "# Classify Date under weekly date\n",
    "wk_date = []\n",
    "w = 0\n",
    "\n",
    "for s in range(len(stock)):\n",
    "    if stock['Date'][s] <= walmart_date[w]:\n",
    "        wk_date.append(walmart_date[w])\n",
    "    else:\n",
    "        wk_date.append(walmart_date[w+1])\n",
    "        w = w + 1\n",
    "\n",
    "# Add Week Date and rename columns\n",
    "stock['Week_Date'] = wk_date\n",
    "stock.columns = ['Date','Open','High','Low','Close','Adj_Close','Volume','Year','Week_Date']\n",
    "\n",
    "# Display preview\n",
    "stock.head()"
   ]
  },
  {
   "cell_type": "markdown",
   "metadata": {},
   "source": [
    "### (3) Walmart Stock 1972-2020 Dataset"
   ]
  },
  {
   "cell_type": "code",
   "execution_count": null,
   "metadata": {},
   "outputs": [],
   "source": [
    "## (3) STOCK 1972-2020 DATASET\n",
    "## TABLE 4 WEEKLY 2010-2012 STOCK DATASET\n",
    "\n",
    "# Average weekly stock price and sum of stock sold per week\n",
    "stock_wk = pd.DataFrame(stock.groupby('Week_Date').agg({'Open': 'mean',\n",
    "                                'High': 'mean',\n",
    "                                'Low': 'mean',\n",
    "                                'Close': 'mean',\n",
    "                                'Adj_Close': 'mean',\n",
    "                                'Volume': 'sum'\n",
    "                               }))\n",
    "\n",
    "# Reset index and rename columns\n",
    "stock_wk = stock_wk.reset_index()\n",
    "stock_wk.columns = ['Week_Date','Avg_Open','Avg_High','Avg_Low','Avg_Close','Avg_Adj_Close','Total_Volume']\n",
    "\n",
    "# Display preview\n",
    "stock_wk.head()"
   ]
  },
  {
   "cell_type": "code",
   "execution_count": null,
   "metadata": {},
   "outputs": [],
   "source": [
    "## WALMART 2010-2012 SALES DATASET/API HOLIDAY\n",
    "## TABLE 5 SUMMARY WEEKLY SALES OF WALMART HOLIDAY 2010-2012\n",
    "\n",
    "# Group by Week\n",
    "walmart_wk = pd.DataFrame(walmart.groupby(['Start_of_Week','Week_Date']).agg({'Fuel_Price': 'mean',\n",
    "                                        'CPI': 'mean',\n",
    "                                        'Unemployment': 'mean',\n",
    "                                        'Week': 'min',\n",
    "                                        'Year': 'min',\n",
    "                                        'Temperature_C': 'mean',\n",
    "                                        'Holiday_Name': 'min',\n",
    "                                        'Weekly_Sales': 'sum'\n",
    "                                            }))\n",
    "\n",
    "# Reset index and rename columns\n",
    "walmart_wk = walmart_wk.reset_index()\n",
    "walmart_wk.columns = ['Start_of_Week','Week_Date','Avg_Fuel_Price','Avg_CPI','Avg_Unemployment','Week','Year','Avg_Temperature_C',\n",
    "                      'Holiday_Name','Total_Weekly_Sales']\n",
    "\n",
    "# Merge\n",
    "\n",
    "# Display preview\n",
    "walmart_wk.head()"
   ]
  },
  {
   "cell_type": "code",
   "execution_count": null,
   "metadata": {},
   "outputs": [],
   "source": [
    "## WALMART 2010-2012 SALES DATASET/API HOLIDAY\n",
    "## TABLE 6 WALMART AGGREGATED HOLIDAY SALES DATASET 2010-2012\n",
    "\n",
    "# Group by Holiday Name and Year\n",
    "walmart_holiday = pd.DataFrame(walmart.groupby(['Holiday_Name','Year']).agg({'Fuel_Price': 'mean',\n",
    "                                        'CPI': 'mean',\n",
    "                                        'Unemployment': 'mean',\n",
    "                                        'Temperature_C': 'mean',\n",
    "                                        'Weekly_Sales': 'mean'\n",
    "                                            }))\n",
    "\n",
    "# Reset index and rename column\n",
    "walmart_holiday = walmart_holiday.reset_index()\n",
    "walmart_holiday.columns = ['Holiday_Name','Year','Avg_Fuel_Price','Avg_CPI','Avg_Unemployment','Avg_Temperature_C',\n",
    "                           'Avg_Weekly_Sales']\n",
    "\n",
    "# Change format of average weekly sales\n",
    "walmart_holiday['Avg_Weekly_Sales'] = [int(sales) for sales in walmart_holiday['Avg_Weekly_Sales']]\n",
    "\n",
    "# Sort and reset index\n",
    "walmart_holiday = walmart_holiday.sort_values(by='Year')\n",
    "walmart_holiday = walmart_holiday.reset_index(drop = True)\n",
    "\n",
    "# Display preview\n",
    "walmart_holiday.head()"
   ]
  },
  {
   "cell_type": "code",
   "execution_count": null,
   "metadata": {},
   "outputs": [],
   "source": [
    "## WALMART 2010-2012 SALES DATASET/API HOLIDAY/STOCK\n",
    "## TABLE 7 MERGE WALMART/HOLIDAY/STOCK ON WEEK\n",
    "\n",
    "# Merge walmart and stock weekly date and sort\n",
    "walmart_stk = walmart.merge(stock_wk, how = \"inner\", on = \"Week_Date\")\n",
    "\n",
    "# Sort by stores and reset\n",
    "walmart_stk = walmart_stk.sort_values(by=['Store', 'Week_Date'])\n",
    "walmart_stk = walmart_stk.reset_index(drop=True)\n",
    "\n",
    "\n",
    "# Display preview\n",
    "walmart_stk.head()"
   ]
  },
  {
   "cell_type": "markdown",
   "metadata": {},
   "source": [
    "### (4) Walmart Sales Dataset (5 Years) ZIP File"
   ]
  },
  {
   "cell_type": "code",
   "execution_count": null,
   "metadata": {},
   "outputs": [],
   "source": [
    "## (4) WALMART SALES DATA (5 YEARS) ZIP FILE SALES_AUG & PRICES CSV CONT.\n",
    "\n",
    "# Drop NA values of prices\n",
    "prices = prices.dropna()"
   ]
  },
  {
   "cell_type": "markdown",
   "metadata": {},
   "source": [
    "### (5) Walmart Store Listing Json"
   ]
  },
  {
   "cell_type": "code",
   "execution_count": null,
   "metadata": {},
   "outputs": [],
   "source": [
    "## (5) WALMART STORE JSON\n",
    "## TABLE _ ALL WALMART STORE LISTING\n",
    "\n",
    "# Filter for Walmart Supercenter \n",
    "store = store[store.storeType.eq(1)]\n",
    "\n",
    "# Display preview\n",
    "store.head()"
   ]
  },
  {
   "cell_type": "code",
   "execution_count": null,
   "metadata": {},
   "outputs": [],
   "source": [
    "## (5) WALMART STORE JSON\n",
    "## TABLE _ COUNT OF STORE IN EACH STATE\n",
    "\n",
    "# Calculate count of stores in each state\n",
    "walmart_stores = pd.DataFrame(store['state'].value_counts(sort = True))\n",
    "walmart_stores.reset_index(inplace = True)\n",
    "walmart_stores.rename(columns = {\"index\":\"state\", \"state\":\"total stores\"}, inplace = True)\n",
    "\n",
    "# Display preview\n",
    "walmart_stores.head()"
   ]
  },
  {
   "cell_type": "markdown",
   "metadata": {},
   "source": [
    "### (6) Competition Financial Dataset (Walmart, Amazon, Target, Costco)"
   ]
  },
  {
   "cell_type": "code",
   "execution_count": null,
   "metadata": {},
   "outputs": [],
   "source": [
    "## (6) COMPETITION FINANCIAL DATASET\n",
    "\n",
    "#Transpose dataset\n",
    "wmt_df = wmt_df.T; amz_df = amz_df.T; tgt_df = tgt_df.T; cos_df = cos_df.T\n",
    "\n",
    "# Reset Index\n",
    "wmt_df.reset_index(inplace=True); amz_df.reset_index(inplace=True); tgt_df.reset_index(inplace=True); cos_df.reset_index(inplace=True)\n",
    "\n",
    "# Rename Columns\n",
    "wmt_df = wmt_df.rename(columns={'index':'Date'}); amz_df = amz_df.rename(columns={'index':'Date'}); tgt_df = tgt_df.rename(columns={'index':'Date'}); cos_df = cos_df.rename(columns={'index':'Date'})\n",
    "\n",
    "# Drop Columns and NA values\n",
    "wmt_df = wmt_df[:-1]; amz_df = amz_df[:-1]; tgt_df = tgt_df[:-2]; cos_df = cos_df[:-1]\n",
    "wmt_df = wmt_df.dropna(axis=1, how='any'); amz_df = amz_df.dropna(axis=1, how='any'); cos_df = cos_df.dropna(axis=1, how='any'); tgt_df = tgt_df.dropna(axis=1, how='any')\n",
    "\n",
    "# Format column and select columns\n",
    "wmt_df['Date'] = pd.to_datetime(wmt_df['Date'],format='%Y-%m').dt.strftime('%Y'); amz_df['Date'] = pd.to_datetime(amz_df['Date'],format='%Y-%m').dt.strftime('%Y')\n",
    "tgt_df['Date'] = pd.to_datetime(tgt_df['Date'],format='%Y-%m').dt.strftime('%Y'); cos_df['Date'] = pd.to_datetime(cos_df['Date'],format='%Y-%m').dt.strftime('%Y')\n",
    "wmt_df = wmt_df[['Date', 'Revenue USD Mil','Operating Income USD Mil', 'Net Income USD Mil', 'Shares Mil', 'Earnings Per Share USD']]\n",
    "amz_df = amz_df[['Date', 'Revenue USD Mil','Operating Income USD Mil', 'Net Income USD Mil', 'Shares Mil', 'Earnings Per Share USD']]\n",
    "tgt_df = tgt_df[['Date', 'Revenue USD Mil','Operating Income USD Mil', 'Net Income USD Mil', 'Shares Mil', 'Earnings Per Share USD']]\n",
    "cos_df = cos_df[['Date', 'Revenue USD Mil','Operating Income USD Mil', 'Net Income USD Mil', 'Shares Mil', 'Earnings Per Share USD']]"
   ]
  },
  {
   "cell_type": "code",
   "execution_count": null,
   "metadata": {},
   "outputs": [],
   "source": [
    "## (6) COMPETITION FINANCIAL DATASET\n",
    "\n",
    "# Merge on date\n",
    "merge1 = pd.merge(wmt_df, amz_df, on=['Date'])\n",
    "\n",
    "# Rename columns\n",
    "merge1.rename(columns={'Revenue USD Mil_x':'Walmart Revenue USD Mil',\n",
    "    'Operating Income USD Mil_x':'Walmart Operating Income USD Mil',\n",
    "    'Net Income USD Mil_x':'Walmart Net Income USD Mil',\n",
    "    'Shares Mil_x':'Walmart Shares Mil',\n",
    "    'Earnings Per Share USD_x':'Walmart Earnings Per Share USD',\n",
    "    'Revenue USD Mil_y':'Amazon Revenue USD Mil',\n",
    "    'Operating Income USD Mil_y':'Amazon Operating Income USD Mil',\n",
    "    'Net Income USD Mil_y':'Amazon Net Income USD Mil',\n",
    "    'Shares Mil_y':'Amazon Shares Mil',\n",
    "    'Earnings Per Share USD_y':'Amazon Earnings Per Share USD'}, inplace=True)\n",
    "\n",
    "# Merge on date\n",
    "merge2 = pd.merge(merge1, tgt_df, on=['Date'], how='outer')\n",
    "\n",
    "# Rename columns\n",
    "merge2.rename(columns={'Revenue USD Mil': 'Target Revenue USD Mil',\n",
    "    'Operating Income USD Mil':'Target Operating Income USD Mil',\n",
    "    'Net Income USD Mil':'Target Net Income USD Mil',\n",
    "    'Shares Mil':'Target Shares Mil',\n",
    "    'Earnings Per Share USD':'Target Earnings Per Share USD'}, inplace=True)\n",
    "\n",
    "# Merge on date\n",
    "merge_df = pd.merge(merge2, cos_df, on=['Date'])\n",
    "\n",
    "# Rename columns\n",
    "merge_df.rename(columns={'Date':\"date\",\n",
    "    'Revenue USD Mil': 'Costco Revenue USD Mil',\n",
    "    'Operating Income USD Mil':'Costco Operating Income USD Mil',\n",
    "    'Net Income USD Mil':'Costco Net Income USD Mil',\n",
    "    'Shares Mil':'Costco Shares Mil',\n",
    "    'Earnings Per Share USD':'Costco Earnings Per Share USD'}, inplace=True)"
   ]
  },
  {
   "cell_type": "code",
   "execution_count": null,
   "metadata": {},
   "outputs": [],
   "source": [
    "## (6) COMPETITION FINANCIAL DATASET CONT.\n",
    "\n",
    "# Create tables from selected columns\n",
    "revenue_df = merge_df[['date','Walmart Revenue USD Mil','Amazon Revenue USD Mil','Target Revenue USD Mil','Costco Revenue USD Mil']]\n",
    "opincome_df = merge_df[['date','Walmart Operating Income USD Mil','Amazon Operating Income USD Mil','Target Operating Income USD Mil','Costco Operating Income USD Mil']]\n",
    "netincome_df = merge_df[['date', 'Walmart Net Income USD Mil', 'Amazon Net Income USD Mil', 'Target Net Income USD Mil', 'Costco Net Income USD Mil']]\n",
    "shares_df = merge_df[['date', 'Walmart Shares Mil', 'Amazon Shares Mil', 'Target Shares Mil', 'Costco Shares Mil']]\n",
    "earnings_df = merge_df[['date', 'Walmart Earnings Per Share USD', 'Amazon Earnings Per Share USD', 'Target Earnings Per Share USD', 'Costco Earnings Per Share USD']]\n",
    "\n",
    "# Set index\n",
    "revenue_df = revenue_df.set_index('date'); opincome_df = opincome_df.set_index('date'); netincome_df = netincome_df.set_index('date')\n",
    "shares_df = shares_df.set_index('date'); earnings_df = earnings_df.set_index('date')"
   ]
  }
 ],
 "metadata": {
  "kernelspec": {
   "display_name": "Python 3",
   "language": "python",
   "name": "python3"
  },
  "language_info": {
   "codemirror_mode": {
    "name": "ipython",
    "version": 3
   },
   "file_extension": ".py",
   "mimetype": "text/x-python",
   "name": "python",
   "nbconvert_exporter": "python",
   "pygments_lexer": "ipython3",
   "version": "3.8.3"
  }
 },
 "nbformat": 4,
 "nbformat_minor": 4
}
