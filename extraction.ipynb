{
 "cells": [
  {
   "cell_type": "code",
   "execution_count": null,
   "metadata": {},
   "outputs": [],
   "source": [
    "# Run dependencies\n",
    "from datetime import datetime, timedelta\n",
    "import os\n",
    "import pandas as pd\n",
    "import requests\n",
    "from sqlalchemy import create_engine\n",
    "%run config.ipynb"
   ]
  },
  {
   "cell_type": "markdown",
   "metadata": {},
   "source": [
    "# Extraction"
   ]
  },
  {
   "cell_type": "markdown",
   "metadata": {},
   "source": [
    "### (1) Walmart 2010-2012 Sales Dataset"
   ]
  },
  {
   "cell_type": "code",
   "execution_count": null,
   "metadata": {},
   "outputs": [],
   "source": [
    "## *******************************************EXTRACTION*******************************************\n",
    "## (1) WALMART 2010-2012 SALES DATASET\n",
    "\n",
    "# Read all walmart csv\n",
    "features = pd.read_csv('Dataset/Walmart/features.csv')\n",
    "stores = pd.read_csv('Dataset/Walmart/stores.csv')\n",
    "train = pd.read_csv('Dataset/Walmart/train.csv')"
   ]
  },
  {
   "cell_type": "markdown",
   "metadata": {},
   "source": [
    "### (2) API Holiday"
   ]
  },
  {
   "cell_type": "code",
   "execution_count": null,
   "metadata": {},
   "outputs": [],
   "source": [
    "## (2) API HOLIDAY\n",
    "\n",
    "# Set holidays, country and years we want dates\n",
    "holiday = ['Christmas Day','Christmas Eve','Independence Day',\"New Year's Day\", \"Thanksgiving Day\"]\n",
    "country = 'US'\n",
    "year = [2010,2011, 2012]\n",
    "\n",
    "# Loops through API and get dates\n",
    "holiday_name = []\n",
    "holiday_date =[]\n",
    "category = []\n",
    "holiday_year = []\n",
    "\n",
    "for number in year:\n",
    "    # Set url base\n",
    "    url = f'https://calendarific.com/api/v2/holidays?&api_key={api_key}&country={country}&year={number}'\n",
    "    response = requests.get(url).json()\n",
    "    \n",
    "    #Loop through holiday\n",
    "    for name in holiday:\n",
    "        # Loop through API\n",
    "        for i in range(len(response['response']['holidays'])):\n",
    "            if name == response['response']['holidays'][i]['name']:\n",
    "                holiday_date.append(response['response']['holidays'][i]['date']['iso'])\n",
    "                category.append(name)\n",
    "                holiday_year.append(number)\n",
    "                break\n",
    "                \n",
    "# Create dataframes of lists created\n",
    "holiday_df = pd.DataFrame({'Holiday': category,\n",
    "                        'Year': holiday_year,\n",
    "                        'Date': holiday_date})\n",
    "\n",
    "# Display preview\n",
    "holiday_df.head()"
   ]
  },
  {
   "cell_type": "markdown",
   "metadata": {},
   "source": [
    "### (3) Walmart Stock 1972-2020 Dataset"
   ]
  },
  {
   "cell_type": "code",
   "execution_count": null,
   "metadata": {},
   "outputs": [],
   "source": [
    "## (3) STOCK 1972-2020 DATASET\n",
    "\n",
    "# Run stock csv\n",
    "stock = pd.read_csv(\"Dataset/stock.csv\")\n",
    "\n",
    "# Display preview\n",
    "stock.head()"
   ]
  },
  {
   "cell_type": "markdown",
   "metadata": {},
   "source": [
    "### (4) Walmart Sales Dataset (5 Years) ZIP File"
   ]
  },
  {
   "cell_type": "code",
   "execution_count": null,
   "metadata": {},
   "outputs": [],
   "source": [
    "## (4) WALMART SALES DATA (5 YEARS) ZIP FILE SALES_AUG & PRICES CSV\n",
    "\n",
    "# Run sales_aug csv\n",
    "sales_aug = pd.read_csv('Resources/sales_aug.csv')\n",
    "\n",
    "# Display preview\n",
    "sales_aug.head()"
   ]
  },
  {
   "cell_type": "code",
   "execution_count": null,
   "metadata": {},
   "outputs": [],
   "source": [
    "## (4) WALMART SALES DATA (5 YEARS) ZIP FILE SALES_AUG & PRICES CSV CONT.\n",
    "\n",
    "# Run sales_aug csv\n",
    "prices = pd.read_csv('Resources/prices.csv')\n",
    "\n",
    "# Display preview\n",
    "prices.head()"
   ]
  },
  {
   "cell_type": "markdown",
   "metadata": {},
   "source": [
    "### (5) Walmart Store Listing Json"
   ]
  },
  {
   "cell_type": "code",
   "execution_count": null,
   "metadata": {},
   "outputs": [],
   "source": [
    "## (5) WALMART STORE JSON\n",
    "\n",
    "# Run store json \n",
    "store = pd.read_json('Resources/walmart.json')\n",
    "\n",
    "# Display preview\n",
    "store.head()"
   ]
  },
  {
   "cell_type": "markdown",
   "metadata": {},
   "source": [
    "### (6) Competition Financial Dataset (Walmart, Amazon, Target, Costco)"
   ]
  },
  {
   "cell_type": "code",
   "execution_count": null,
   "metadata": {},
   "outputs": [],
   "source": [
    "## (6) COMPETITION FINANCIAL DATASET\n",
    "\n",
    "# Run Walmart, Amazon, Target, Costco Financial csv\n",
    "wmt_df = pd.read_csv(\"Competition/WMT.csv\", skiprows=2, index_col=0)\n",
    "amz_df = pd.read_csv(\"Competition/AMZN.csv\", skiprows=2, index_col=0)\n",
    "tgt_df = pd.read_csv(\"Competition/TGT.csv\", skiprows=2, index_col=0)\n",
    "cos_df = pd.read_csv(\"Competition/COST.csv\", skiprows=2, index_col=0)"
   ]
  }
 ],
 "metadata": {
  "kernelspec": {
   "display_name": "Python 3",
   "language": "python",
   "name": "python3"
  },
  "language_info": {
   "codemirror_mode": {
    "name": "ipython",
    "version": 3
   },
   "file_extension": ".py",
   "mimetype": "text/x-python",
   "name": "python",
   "nbconvert_exporter": "python",
   "pygments_lexer": "ipython3",
   "version": "3.8.3"
  }
 },
 "nbformat": 4,
 "nbformat_minor": 4
}
