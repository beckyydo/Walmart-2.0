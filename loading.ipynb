{
 "cells": [
  {
   "cell_type": "code",
   "execution_count": 1,
   "metadata": {},
   "outputs": [],
   "source": [
    "import nest_asyncio\n",
    "nest_asyncio.apply()"
   ]
  },
  {
   "cell_type": "code",
   "execution_count": 2,
   "metadata": {},
   "outputs": [
    {
     "name": "stdout",
     "output_type": "stream",
     "text": [
      "500 columns processed...\n",
      "1000 columns processed...\n",
      "1500 columns processed...\n",
      "500 columns processed...\n",
      "1000 columns processed...\n",
      "1500 columns processed...\n"
     ]
    }
   ],
   "source": [
    "# Run dependencies\n",
    "%run transformation.ipynb"
   ]
  },
  {
   "cell_type": "markdown",
   "metadata": {},
   "source": [
    "# Loading"
   ]
  },
  {
   "cell_type": "code",
   "execution_count": 14,
   "metadata": {},
   "outputs": [],
   "source": [
    "# *******************************************LOADING*******************************************\n",
    "import psycopg2\n",
    "%run config.ipynb\n",
    "engine=create_engine(f\"postgresql://{connection_string}\")"
   ]
  },
  {
   "cell_type": "code",
   "execution_count": 15,
   "metadata": {},
   "outputs": [
    {
     "data": {
      "text/html": [
       "<div>\n",
       "<style scoped>\n",
       "    .dataframe tbody tr th:only-of-type {\n",
       "        vertical-align: middle;\n",
       "    }\n",
       "\n",
       "    .dataframe tbody tr th {\n",
       "        vertical-align: top;\n",
       "    }\n",
       "\n",
       "    .dataframe thead th {\n",
       "        text-align: right;\n",
       "    }\n",
       "</style>\n",
       "<table border=\"1\" class=\"dataframe\">\n",
       "  <thead>\n",
       "    <tr style=\"text-align: right;\">\n",
       "      <th></th>\n",
       "      <th>d_1</th>\n",
       "      <th>d_2</th>\n",
       "      <th>d_3</th>\n",
       "      <th>d_4</th>\n",
       "      <th>d_5</th>\n",
       "      <th>d_6</th>\n",
       "      <th>d_7</th>\n",
       "      <th>d_8</th>\n",
       "      <th>d_9</th>\n",
       "      <th>d_10</th>\n",
       "      <th>...</th>\n",
       "      <th>d_1938</th>\n",
       "      <th>d_1939</th>\n",
       "      <th>d_1940</th>\n",
       "      <th>d_1941</th>\n",
       "      <th>id</th>\n",
       "      <th>cat_id</th>\n",
       "      <th>dept_id</th>\n",
       "      <th>item_id</th>\n",
       "      <th>state_id</th>\n",
       "      <th>store_id</th>\n",
       "    </tr>\n",
       "  </thead>\n",
       "  <tbody>\n",
       "    <tr>\n",
       "      <th>0</th>\n",
       "      <td>3</td>\n",
       "      <td>4</td>\n",
       "      <td>2</td>\n",
       "      <td>1</td>\n",
       "      <td>0</td>\n",
       "      <td>3</td>\n",
       "      <td>2</td>\n",
       "      <td>2</td>\n",
       "      <td>4</td>\n",
       "      <td>0</td>\n",
       "      <td>...</td>\n",
       "      <td>0</td>\n",
       "      <td>3</td>\n",
       "      <td>2</td>\n",
       "      <td>4</td>\n",
       "      <td>2081</td>\n",
       "      <td>2</td>\n",
       "      <td>5</td>\n",
       "      <td>1340</td>\n",
       "      <td>6</td>\n",
       "      <td>1</td>\n",
       "    </tr>\n",
       "    <tr>\n",
       "      <th>1</th>\n",
       "      <td>0</td>\n",
       "      <td>0</td>\n",
       "      <td>0</td>\n",
       "      <td>0</td>\n",
       "      <td>0</td>\n",
       "      <td>0</td>\n",
       "      <td>0</td>\n",
       "      <td>0</td>\n",
       "      <td>0</td>\n",
       "      <td>0</td>\n",
       "      <td>...</td>\n",
       "      <td>0</td>\n",
       "      <td>0</td>\n",
       "      <td>1</td>\n",
       "      <td>0</td>\n",
       "      <td>1716</td>\n",
       "      <td>1</td>\n",
       "      <td>3</td>\n",
       "      <td>1114</td>\n",
       "      <td>55</td>\n",
       "      <td>7</td>\n",
       "    </tr>\n",
       "    <tr>\n",
       "      <th>2</th>\n",
       "      <td>0</td>\n",
       "      <td>0</td>\n",
       "      <td>0</td>\n",
       "      <td>0</td>\n",
       "      <td>0</td>\n",
       "      <td>0</td>\n",
       "      <td>0</td>\n",
       "      <td>0</td>\n",
       "      <td>0</td>\n",
       "      <td>0</td>\n",
       "      <td>...</td>\n",
       "      <td>0</td>\n",
       "      <td>0</td>\n",
       "      <td>0</td>\n",
       "      <td>0</td>\n",
       "      <td>1921</td>\n",
       "      <td>1</td>\n",
       "      <td>4</td>\n",
       "      <td>1233</td>\n",
       "      <td>55</td>\n",
       "      <td>8</td>\n",
       "    </tr>\n",
       "    <tr>\n",
       "      <th>3</th>\n",
       "      <td>0</td>\n",
       "      <td>0</td>\n",
       "      <td>0</td>\n",
       "      <td>0</td>\n",
       "      <td>0</td>\n",
       "      <td>0</td>\n",
       "      <td>0</td>\n",
       "      <td>0</td>\n",
       "      <td>0</td>\n",
       "      <td>0</td>\n",
       "      <td>...</td>\n",
       "      <td>0</td>\n",
       "      <td>0</td>\n",
       "      <td>0</td>\n",
       "      <td>1</td>\n",
       "      <td>1598</td>\n",
       "      <td>1</td>\n",
       "      <td>3</td>\n",
       "      <td>1045</td>\n",
       "      <td>55</td>\n",
       "      <td>9</td>\n",
       "    </tr>\n",
       "    <tr>\n",
       "      <th>4</th>\n",
       "      <td>0</td>\n",
       "      <td>0</td>\n",
       "      <td>0</td>\n",
       "      <td>0</td>\n",
       "      <td>0</td>\n",
       "      <td>0</td>\n",
       "      <td>0</td>\n",
       "      <td>0</td>\n",
       "      <td>0</td>\n",
       "      <td>0</td>\n",
       "      <td>...</td>\n",
       "      <td>0</td>\n",
       "      <td>0</td>\n",
       "      <td>0</td>\n",
       "      <td>0</td>\n",
       "      <td>1949</td>\n",
       "      <td>1</td>\n",
       "      <td>4</td>\n",
       "      <td>1253</td>\n",
       "      <td>48</td>\n",
       "      <td>6</td>\n",
       "    </tr>\n",
       "  </tbody>\n",
       "</table>\n",
       "<p>5 rows × 1947 columns</p>\n",
       "</div>"
      ],
      "text/plain": [
       "   d_1  d_2  d_3  d_4  d_5  d_6  d_7  d_8  d_9  d_10  ...  d_1938  d_1939  \\\n",
       "0    3    4    2    1    0    3    2    2    4     0  ...       0       3   \n",
       "1    0    0    0    0    0    0    0    0    0     0  ...       0       0   \n",
       "2    0    0    0    0    0    0    0    0    0     0  ...       0       0   \n",
       "3    0    0    0    0    0    0    0    0    0     0  ...       0       0   \n",
       "4    0    0    0    0    0    0    0    0    0     0  ...       0       0   \n",
       "\n",
       "   d_1940  d_1941    id  cat_id  dept_id  item_id  state_id  store_id  \n",
       "0       2       4  2081       2        5     1340         6         1  \n",
       "1       1       0  1716       1        3     1114        55         7  \n",
       "2       0       0  1921       1        4     1233        55         8  \n",
       "3       0       1  1598       1        3     1045        55         9  \n",
       "4       0       0  1949       1        4     1253        48         6  \n",
       "\n",
       "[5 rows x 1947 columns]"
      ]
     },
     "execution_count": 15,
     "metadata": {},
     "output_type": "execute_result"
    }
   ],
   "source": [
    "df_sales_raw.head()"
   ]
  },
  {
   "cell_type": "code",
   "execution_count": 16,
   "metadata": {},
   "outputs": [],
   "source": [
    "holiday_df.to_sql(name=\"holiday\", con=engine, if_exists='append', index=True)\n",
    "\n",
    "walmart.to_sql(name=\"walmart\", con=engine, if_exists='append', index=True)\n",
    "\n",
    "stock.to_sql(name=\"stock\", con=engine, if_exists='append', index=True)\n",
    "\n",
    "state_id.to_sql(name=\"state_id\", con=engine, if_exists='append', index=True)\n",
    "\n",
    "store.to_sql(name=\"store\", con=engine, if_exists='append', index=True)\n",
    "\n",
    "marketShare_final.to_sql(name=\"marketshare\", con=engine, if_exists='append', index=True)"
   ]
  },
  {
   "cell_type": "code",
   "execution_count": 17,
   "metadata": {},
   "outputs": [
    {
     "data": {
      "text/plain": [
       "<sqlalchemy.engine.result.ResultProxy at 0x29ab0107430>"
      ]
     },
     "execution_count": 17,
     "metadata": {},
     "output_type": "execute_result"
    }
   ],
   "source": [
    "# Add primary keys\n",
    "engine.execute('ALTER TABLE \"store\" ADD PRIMARY KEY (id)')\n"
   ]
  },
  {
   "cell_type": "code",
   "execution_count": 18,
   "metadata": {},
   "outputs": [
    {
     "ename": "SyntaxError",
     "evalue": "unmatched ')' (<ipython-input-18-915b9fe45efb>, line 1)",
     "output_type": "error",
     "traceback": [
      "\u001b[1;36m  File \u001b[1;32m\"<ipython-input-18-915b9fe45efb>\"\u001b[1;36m, line \u001b[1;32m1\u001b[0m\n\u001b[1;33m    df_sales.to_csv('Resources/clean/d3_sales.csv'),index=False)\u001b[0m\n\u001b[1;37m                                                               ^\u001b[0m\n\u001b[1;31mSyntaxError\u001b[0m\u001b[1;31m:\u001b[0m unmatched ')'\n"
     ]
    }
   ],
   "source": [
    "df_sales.to_csv(('Resources/clean/d3_sales.csv'),index=False)\n",
    "df_price_changes.to_csv(('Resources/clean/d3_price_changes.csv'),index=False)\n",
    "\n",
    "df_sales_categories.to_csv(('Resources/clean/d3_categories.csv'),index=False)\n",
    "df_sales_departments.to_csv(('Resources/clean/d3_departments.csv'),index=False)\n",
    "df_sales_stores.to_csv(('Resources/clean/d3_stores.csv'),index=False)\n",
    "df_sales_states.to_csv(('Resources/clean/d3_states.csv'),index=False)\n",
    "df_sales_items.to_csv(('Resources/clean/d3_items.csv'),index=False)\n",
    "\n",
    "df_ecomm.to_csv(('Resources/clean/d7_ecomm.csv'),index=False)"
   ]
  },
  {
   "cell_type": "code",
   "execution_count": null,
   "metadata": {},
   "outputs": [],
   "source": [
    "# this code loops through the folder of cleaned .csv files and loads them to PostgreSQL\n",
    "# this is over 20 faster than using sqlalchemy and df.to_sql for long tables\n",
    "\n",
    "# files are read to memory using StringIO in the io package\n",
    "# 'copy [table] from stdin' in PostgreSQL, which directly from memory on the local computer\n",
    "\n",
    "folder_name = os.path.join('Resources/clean')\n",
    "\n",
    "conn_host = 'otto.db.elephantsql.com'\n",
    "conn_dbname = 'ofiglsqd'\n",
    "conn_user = 'ofiglsqd'\n",
    "\n",
    "conn_pass = getpass.getpass(prompt='password: ')\n",
    "\n",
    "# loop through .csv files in the output folder\n",
    "for file in os.listdir(folder_name):\n",
    "\n",
    "    print('\\n\\n' + str(datetime.utcnow()) + ' ' + str(file) + ' to be loaded')\n",
    "\n",
    "    print(str(datetime.utcnow()) + ' reading file to dataframe...')\n",
    "    \n",
    "    # read .csv file into dataframe\n",
    "    df = pd.read_csv(os.path.join(folder_name, file), na_values=['nan','NA','NaN'])\n",
    "    \n",
    "    print(str(datetime.utcnow()) + ' completed')\n",
    "    \n",
    "    print(df.info(memory_usage='deep'))\n",
    "    \n",
    "    # \n",
    "    with psycopg2.connect(host=conn_host, dbname=conn_dbname, user=conn_user, password=conn_pass) as conn:\n",
    "        conn.autocommit = True\n",
    "\n",
    "        table_name = file.split('.csv')[0].lower().replace('-','_')\n",
    "\n",
    "        output = io.StringIO()\n",
    "\n",
    "        print(str(datetime.utcnow()) + ' reading file to memory using StringIO...')\n",
    "\n",
    "        df.to_csv(output, sep='|', header=False, index=False)\n",
    "        output.seek(0)\n",
    "\n",
    "        print(str(datetime.utcnow()) + ' completed')\n",
    "\n",
    "        print(str(datetime.utcnow()) + ' generating the create table statement...')\n",
    "        \n",
    "        qry = pd.io.sql.get_schema(df, table_name, con=conn)\n",
    "\n",
    "        qry = qry.replace('CREATE TABLE', 'CREATE TABLE IF NOT EXISTS')\n",
    "\n",
    "        for key in df.columns:\n",
    "            if pd.api.types.infer_dtype(df[key], skipna=True) == 'boolean':\n",
    "                start = qry.find(key)\n",
    "                end = start + qry[start:].find(',')\n",
    "                print(start, end)\n",
    "                qry = qry[:start] + key + '\" BOOLEAN' + qry[end:]\n",
    "        try:\n",
    "            with conn.cursor() as cur:\n",
    "                print(str(datetime.utcnow()) + ' completed')\n",
    "                print(qry)\n",
    "                \n",
    "                print(str(datetime.utcnow()) + ' executing the create table statement...')\n",
    "                cur.execute(qry)\n",
    "                print(str(datetime.utcnow()) + ' completed')\n",
    "                \n",
    "                print(str(datetime.utcnow()) + ' loading table to database...')\n",
    "                cur.copy_expert(\"\"\"COPY %s FROM STDIN WITH (FORMAT csv, DELIMITER '|', QUOTE '\"')\"\"\" % table_name, output)\n",
    "                print(str(datetime.utcnow()) + ' completed')\n",
    "\n",
    "        except Exception as e:\n",
    "            print('Error:\\n' + str(e))\n"
   ]
  },
  {
   "cell_type": "code",
   "execution_count": null,
   "metadata": {},
   "outputs": [],
   "source": [
    "# Add financial data tables\n",
    "revenue_df.to_sql(name='revenue', con=engine, if_exists='append', index=True)\n",
    "netincome_df.to_sql(name='net_income', con=engine, if_exists='append', index=True)\n",
    "earnings_df.to_sql(name='earnings', con=engine, if_exists='append', index=True)"
   ]
  },
  {
   "cell_type": "code",
   "execution_count": null,
   "metadata": {},
   "outputs": [],
   "source": [
    "# Check tables in database\n",
    "engine.table_names()"
   ]
  },
  {
   "cell_type": "code",
   "execution_count": null,
   "metadata": {},
   "outputs": [],
   "source": [
    "# Close connection\n",
    "engine.dispose()"
   ]
  }
 ],
 "metadata": {
  "kernelspec": {
   "display_name": "Python 3",
   "language": "python",
   "name": "python3"
  },
  "language_info": {
   "codemirror_mode": {
    "name": "ipython",
    "version": 3
   },
   "file_extension": ".py",
   "mimetype": "text/x-python",
   "name": "python",
   "nbconvert_exporter": "python",
   "pygments_lexer": "ipython3",
   "version": "3.8.3"
  }
 },
 "nbformat": 4,
 "nbformat_minor": 4
}
