{
 "cells": [
  {
   "cell_type": "code",
   "execution_count": null,
   "metadata": {},
   "outputs": [],
   "source": [
    "# Run dependencies\n",
    "%run transformation.ipynb"
   ]
  },
  {
   "cell_type": "markdown",
   "metadata": {},
   "source": [
    "# Loading"
   ]
  },
  {
   "cell_type": "code",
   "execution_count": null,
   "metadata": {},
   "outputs": [],
   "source": [
    "# *******************************************LOADING*******************************************\n"
   ]
  },
  {
   "cell_type": "markdown",
   "metadata": {},
   "source": [
    "### (5) Walmart Sales Dataset (5 Years) ZIP File"
   ]
  },
  {
   "cell_type": "code",
   "execution_count": null,
   "metadata": {},
   "outputs": [],
   "source": [
    "# Create table CAfoods and add data \n",
    "CAfoods.to_sql(name=\"CAfoods\", con=engine, if_exists='append', index=True)\n",
    "\n",
    "# Create table state_category and add data \n",
    "state_category.to_sql(name=\"state_category\", con=engine, if_exists='append', index=True)\n",
    "\n",
    "# Create table walmart_stores and add data \n",
    "walmart_stores.to_sql(name=\"walmart_stores\", con=engine, if_exists='append', index=True)\n",
    "\n",
    "# Create table walmart_state_cat and add data \n",
    "walmart_state_cat.to_sql(name=\"walmart_state_cat\", con=engine, if_exists='append', index=True)\n",
    "\n",
    "# Create table state_store_sale and add data \n",
    "state_store_sale.to_sql(name=\"state_store_sale\", con=engine, if_exists='append', index=True)"
   ]
  },
  {
   "cell_type": "code",
   "execution_count": null,
   "metadata": {},
   "outputs": [],
   "source": [
    "# Add primary keys\n",
    "engine.execute('ALTER TABLE \"CAfoods\" ADD PRIMARY KEY (id)')\n",
    "engine.execute('ALTER TABLE state_category ADD PRIMARY KEY (state, cat_id)')\n",
    "engine.execute('ALTER TABLE walmart_stores ADD PRIMARY KEY (state)')\n",
    "engine.execute('ALTER TABLE walmart_state_cat ADD PRIMARY KEY (state, cat_id)')\n",
    "engine.execute('ALTER TABLE state_store_sale ADD PRIMARY KEY (state)')"
   ]
  },
  {
   "cell_type": "markdown",
   "metadata": {},
   "source": [
    "### (6) Competition Financial Dataset"
   ]
  },
  {
   "cell_type": "code",
   "execution_count": null,
   "metadata": {},
   "outputs": [],
   "source": [
    "## (6) COMPETITION FINANCIAL DATASET\n",
    "\n",
    "# Add financial data tables\n",
    "revenue_df.to_sql(name='revenue', con=engine, if_exists='append', index=True)\n",
    "netincome_df.to_sql(name='net_income', con=engine, if_exists='append', index=True)\n",
    "opincome_df.to_sql(name='operating_income', con=engine, if_exists='append', index=True)\n",
    "shares_df.to_sql(name='shares', con=engine, if_exists='append', index=True)\n",
    "earnings_df.to_sql(name='earnings', con=engine, if_exists='append', index=True)"
   ]
  },
  {
   "cell_type": "code",
   "execution_count": null,
   "metadata": {},
   "outputs": [],
   "source": [
    "# Check tables in database\n",
    "engine.table_names()"
   ]
  },
  {
   "cell_type": "code",
   "execution_count": null,
   "metadata": {},
   "outputs": [],
   "source": [
    "# Close connection\n",
    "engine.dispose()"
   ]
  }
 ],
 "metadata": {
  "kernelspec": {
   "display_name": "Python 3",
   "language": "python",
   "name": "python3"
  },
  "language_info": {
   "codemirror_mode": {
    "name": "ipython",
    "version": 3
   },
   "file_extension": ".py",
   "mimetype": "text/x-python",
   "name": "python",
   "nbconvert_exporter": "python",
   "pygments_lexer": "ipython3",
   "version": "3.8.3"
  }
 },
 "nbformat": 4,
 "nbformat_minor": 4
}
